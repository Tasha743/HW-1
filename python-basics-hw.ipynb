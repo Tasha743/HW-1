{
 "cells": [
  {
   "cell_type": "markdown",
   "metadata": {},
   "source": [
    "**Задание 1**. Даны 2 строки: *long_phrase* и *short_phrase*. \n",
    "Напишите код, который проверяет действительно ли длинная фраза *long_phrase* длиннее короткой *short_phrase*. И выводит *True* или *False* в зависимости от результата сравнения."
   ]
  },
  {
   "cell_type": "code",
   "execution_count": 2,
   "metadata": {},
   "outputs": [],
   "source": [
    "long_phrase = 'Насколько проще было бы писать программы, если бы не заказчики'\n",
    "short_phrase = '640Кб должно хватить для любых задач. Билл Гейтс (по легенде)'"
   ]
  },
  {
   "cell_type": "code",
   "execution_count": 3,
   "metadata": {
    "scrolled": false
   },
   "outputs": [
    {
     "data": {
      "text/plain": [
       "True"
      ]
     },
     "execution_count": 3,
     "metadata": {},
     "output_type": "execute_result"
    }
   ],
   "source": [
    "len ('Насколько проще было бы писать программы, если бы не заказчики') > len ('640Кб должно хватить для любых задач. Билл Гейтс (по легенде)')"
   ]
  },
  {
   "cell_type": "code",
   "execution_count": 4,
   "metadata": {},
   "outputs": [
    {
     "data": {
      "text/plain": [
       "True"
      ]
     },
     "execution_count": 4,
     "metadata": {},
     "output_type": "execute_result"
    }
   ],
   "source": [
    "long_phrase > short_phrase"
   ]
  },
  {
   "cell_type": "markdown",
   "metadata": {},
   "source": [
    "**Задание 2**. Дано значение объема файла в байтах. Напишите перевод этого значения в мегабайты в формате: \"*Объем файла равен 213.68Mb*\""
   ]
  },
  {
   "cell_type": "code",
   "execution_count": 72,
   "metadata": {
    "scrolled": true
   },
   "outputs": [
    {
     "name": "stdout",
     "output_type": "stream",
     "text": [
      "Введите количество байт: 3800000\n",
      "Объем файла равен: 3.0 Мб\n"
     ]
    }
   ],
   "source": [
    "user_input = int(input('Введите количество байт: '))\n",
    "a = float(user_input // 10**6)\n",
    "print(\"Объем файла равен:\", a, \"Мб\")"
   ]
  },
  {
   "cell_type": "markdown",
   "metadata": {},
   "source": [
    "**Задание 3**. Разработать приложение для определения знака зодиака по дате рождения. Пример:\n",
    "\n",
    "Введите месяц: март\n",
    "\n",
    "Введите число: 6\n",
    "\n",
    "Вывод:\n",
    "Рыбы"
   ]
  },
  {
   "cell_type": "code",
   "execution_count": 18,
   "metadata": {},
   "outputs": [
    {
     "name": "stdout",
     "output_type": "stream",
     "text": [
      "Введите название месяца:февраль\n",
      "Введите день:7\n",
      "Знак зодиака: Водолей\n"
     ]
    }
   ],
   "source": [
    "month = input(\"Введите название месяца:\")\n",
    "day = int(input(\"Введите день:\"))\n",
    "if ((month == \"март\") and (21 <= day <= 31)) or ((month == \"апрель\") and (1 <= day <= 20)):\n",
    "        print(\"Знак зодиака: Овен\")\n",
    "if ((month == \"апрель\") and (21 <= day <= 31)) or ((month == \"май\") and (1 <= day <= 20)):\n",
    "        print(\"Знак зодиака: Телец\")\n",
    "if ((month == \"май\") and (21 <= day <= 31)) or ((month == \"июнь\") and (1 <= day <= 20)):\n",
    "        print(\"Знак зодиака: Близнецы\")\n",
    "if ((month == \"июнь\") and (21 <= day <= 31)) or ((month == \"июль\") and (1 <= day <= 20)):\n",
    "        print(\"Знак зодиака: Рак\")\n",
    "if ((month == \"июль\") and (21 <= day <= 31)) or ((month == \"август\") and (1 <= day <= 20)):\n",
    "        print(\"Знак зодиака: Лев\")\n",
    "if ((month == \"август\") and (21 <= day <= 31)) or ((month == \"сентябрь\") and (1 <= day <= 20)):\n",
    "        print(\"Знак зодиака: Дева\")\n",
    "if ((month == \"сентябрь\") and (21 <= day <= 31)) or ((month == \"октябрь\") and (1 <= day <= 20)):\n",
    "        print(\"Знак зодиака: Весы\")\n",
    "if ((month == \"Октябрь\") and (21 <= day <= 31)) or ((month == \"ноябрь\") and (1 <= day <= 20)):\n",
    "        print(\"Знак зодиака: Скорпион\")\n",
    "if ((month == \"ноябрь\") and (21 <= day <= 31)) or ((month == \"декабрь\") and (1 <= day <= 20)):\n",
    "        print(\"Знак зодиака: Стрелец\")\n",
    "if ((month == \"декабрь\") and (21 <= day <= 31)) or ((month == \"январь\") and (1 <= day <= 20)):\n",
    "        print(\"Знак зодиака: Козерог\")\n",
    "if ((month == \"январь\") and (21 <= day <= 31)) or ((month == \"февраль\") and (1 <= day <= 20)):\n",
    "        print(\"Знак зодиака: Водолей\")\n",
    "if ((month == \"февраль\") and (21 <= day <= 31)) or ((month == \"март\") and (1 <= day <= 20)):\n",
    "        print(\"Знак зодиака: Рыбы\")"
   ]
  },
  {
   "cell_type": "markdown",
   "metadata": {},
   "source": [
    "**Задание 4**. Нужно разработать приложение для финансового планирования.\n",
    "Приложение учитывает сколько уходит на ипотеку, \"на жизнь\" и сколько нужно отложить на пенсию.\n",
    "Пользователь вводит:\n",
    "- заработанную плату в месяц.\n",
    "- сколько процентов от ЗП уходит на ипотеку.\n",
    "- сколько процентов от ЗП уходит \"на жизнь\".\n",
    "- сколько раз приходит премия в год.\n",
    "\n",
    "Остальная часть заработанной платы откладывается на пенсию.\n",
    "\n",
    "Также пользователю приходит премия в размере зарплаты, от которой половина уходит на отпуск, а вторая половина откладывается.\n",
    "\n",
    "Программа должна учитывать сколько премий было в год.\n",
    "\n",
    "Нужно вывести сколько денег тратит пользователь на ипотеку и сколько он накопит за год.\n",
    "\n",
    "Пример:\n",
    "\n",
    "Введите заработанную плату в месяц: 100000\n",
    "\n",
    "Введите сколько процентов уходит на ипотеку: 30\n",
    "\n",
    "Введите сколько процентов уходит на жизнь: 50\n",
    "\n",
    "Введите количество премий за год: 2\n",
    "\n",
    "Вывод:\n",
    "На ипотеку было потрачено: 360000 рублей\n",
    "Было накоплено: 340000 рублей"
   ]
  },
  {
   "cell_type": "code",
   "execution_count": 57,
   "metadata": {
    "scrolled": true
   },
   "outputs": [
    {
     "name": "stdout",
     "output_type": "stream",
     "text": [
      "Заработная плата в месяц:100000\n",
      "Сколько процентов от зарплаты уходит на ипотеку:30\n",
      "Сколько процентов уходит на жизнь в месяц:50\n",
      "Количество премий за год:2\n",
      "На ипотеку было потрачено: 360000\n",
      "Было накоплено: 340000\n"
     ]
    }
   ],
   "source": [
    "salary_month = int(input(\"Заработная плата в месяц:\"))\n",
    "credit_month_pr = int(input(\"Сколько процентов от зарплаты уходит на ипотеку:\"))\n",
    "life_month_pr = int(input(\"Сколько процентов уходит на жизнь в месяц:\"))\n",
    "count_bonus_year = int(input(\"Количество премий за год:\"))\n",
    "salary_year = salary_month * 12\n",
    "credit_month = credit_month_pr*salary_month//100\n",
    "credit_year = credit_month*12\n",
    "print(\"На ипотеку было потрачено:\", credit_year)\n",
    "life_month = life_month_pr*salary_month//100\n",
    "life_year = life_month*12\n",
    "bonus_year = count_bonus_year*salary_month\n",
    "capital = (salary_year - credit_year - life_year) +  bonus_year//2\n",
    "print(\"Было накоплено:\", capital)"
   ]
  },
  {
   "cell_type": "code",
   "execution_count": null,
   "metadata": {},
   "outputs": [],
   "source": []
  }
 ],
 "metadata": {
  "kernelspec": {
   "display_name": "Python 3",
   "language": "python",
   "name": "python3"
  },
  "language_info": {
   "codemirror_mode": {
    "name": "ipython",
    "version": 3
   },
   "file_extension": ".py",
   "mimetype": "text/x-python",
   "name": "python",
   "nbconvert_exporter": "python",
   "pygments_lexer": "ipython3",
   "version": "3.7.4"
  }
 },
 "nbformat": 4,
 "nbformat_minor": 2
}
